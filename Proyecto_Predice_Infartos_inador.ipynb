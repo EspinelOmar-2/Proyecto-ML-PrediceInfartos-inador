{
  "nbformat": 4,
  "nbformat_minor": 0,
  "metadata": {
    "colab": {
      "name": "Proyecto Predice Infartos-inador.ipynb",
      "provenance": [],
      "collapsed_sections": []
    },
    "kernelspec": {
      "name": "python3",
      "display_name": "Python 3"
    }
  },
  "cells": [
    {
      "cell_type": "markdown",
      "metadata": {
        "id": "SB8ruhsJrgTK"
      },
      "source": [
        "#Predice Infartos-Inador\n",
        "##Carga de datos\n",
        "[Dataset de los accidentes cardiovasculares letales/no letales](https://www.kaggle.com/andrewmvd/heart-failure-clinical-data)"
      ]
    },
    {
      "cell_type": "code",
      "metadata": {
        "id": "gi7N_sbArUZp",
        "colab": {
          "base_uri": "https://localhost:8080/",
          "height": 204
        },
        "outputId": "58c494fe-a6e8-478a-9ea0-c904f73563f5"
      },
      "source": [
        "import pandas as pd\n",
        "import numpy as np\n",
        "from sklearn.linear_model import LogisticRegression\n",
        "from sklearn.metrics import matthews_corrcoef\n",
        "from sklearn.metrics import accuracy_score\n",
        "from sklearn.metrics import roc_curve,roc_auc_score\n",
        "import matplotlib.pyplot as plt\n",
        "dataframe=pd.read_csv('heart_failure_clinical_records_dataset.csv',sep=',', header=0)\n",
        "dataframe.head()"
      ],
      "execution_count": 1,
      "outputs": [
        {
          "output_type": "execute_result",
          "data": {
            "text/html": [
              "<div>\n",
              "<style scoped>\n",
              "    .dataframe tbody tr th:only-of-type {\n",
              "        vertical-align: middle;\n",
              "    }\n",
              "\n",
              "    .dataframe tbody tr th {\n",
              "        vertical-align: top;\n",
              "    }\n",
              "\n",
              "    .dataframe thead th {\n",
              "        text-align: right;\n",
              "    }\n",
              "</style>\n",
              "<table border=\"1\" class=\"dataframe\">\n",
              "  <thead>\n",
              "    <tr style=\"text-align: right;\">\n",
              "      <th></th>\n",
              "      <th>age</th>\n",
              "      <th>anaemia</th>\n",
              "      <th>creatinine_phosphokinase</th>\n",
              "      <th>diabetes</th>\n",
              "      <th>ejection_fraction</th>\n",
              "      <th>high_blood_pressure</th>\n",
              "      <th>platelets</th>\n",
              "      <th>serum_creatinine</th>\n",
              "      <th>serum_sodium</th>\n",
              "      <th>sex</th>\n",
              "      <th>smoking</th>\n",
              "      <th>time</th>\n",
              "      <th>DEATH_EVENT</th>\n",
              "    </tr>\n",
              "  </thead>\n",
              "  <tbody>\n",
              "    <tr>\n",
              "      <th>0</th>\n",
              "      <td>75.0</td>\n",
              "      <td>0</td>\n",
              "      <td>582</td>\n",
              "      <td>0</td>\n",
              "      <td>20</td>\n",
              "      <td>1</td>\n",
              "      <td>265000.00</td>\n",
              "      <td>1.9</td>\n",
              "      <td>130</td>\n",
              "      <td>1</td>\n",
              "      <td>0</td>\n",
              "      <td>4</td>\n",
              "      <td>1</td>\n",
              "    </tr>\n",
              "    <tr>\n",
              "      <th>1</th>\n",
              "      <td>55.0</td>\n",
              "      <td>0</td>\n",
              "      <td>7861</td>\n",
              "      <td>0</td>\n",
              "      <td>38</td>\n",
              "      <td>0</td>\n",
              "      <td>263358.03</td>\n",
              "      <td>1.1</td>\n",
              "      <td>136</td>\n",
              "      <td>1</td>\n",
              "      <td>0</td>\n",
              "      <td>6</td>\n",
              "      <td>1</td>\n",
              "    </tr>\n",
              "    <tr>\n",
              "      <th>2</th>\n",
              "      <td>65.0</td>\n",
              "      <td>0</td>\n",
              "      <td>146</td>\n",
              "      <td>0</td>\n",
              "      <td>20</td>\n",
              "      <td>0</td>\n",
              "      <td>162000.00</td>\n",
              "      <td>1.3</td>\n",
              "      <td>129</td>\n",
              "      <td>1</td>\n",
              "      <td>1</td>\n",
              "      <td>7</td>\n",
              "      <td>1</td>\n",
              "    </tr>\n",
              "    <tr>\n",
              "      <th>3</th>\n",
              "      <td>50.0</td>\n",
              "      <td>1</td>\n",
              "      <td>111</td>\n",
              "      <td>0</td>\n",
              "      <td>20</td>\n",
              "      <td>0</td>\n",
              "      <td>210000.00</td>\n",
              "      <td>1.9</td>\n",
              "      <td>137</td>\n",
              "      <td>1</td>\n",
              "      <td>0</td>\n",
              "      <td>7</td>\n",
              "      <td>1</td>\n",
              "    </tr>\n",
              "    <tr>\n",
              "      <th>4</th>\n",
              "      <td>65.0</td>\n",
              "      <td>1</td>\n",
              "      <td>160</td>\n",
              "      <td>1</td>\n",
              "      <td>20</td>\n",
              "      <td>0</td>\n",
              "      <td>327000.00</td>\n",
              "      <td>2.7</td>\n",
              "      <td>116</td>\n",
              "      <td>0</td>\n",
              "      <td>0</td>\n",
              "      <td>8</td>\n",
              "      <td>1</td>\n",
              "    </tr>\n",
              "  </tbody>\n",
              "</table>\n",
              "</div>"
            ],
            "text/plain": [
              "    age  anaemia  creatinine_phosphokinase  ...  smoking  time  DEATH_EVENT\n",
              "0  75.0        0                       582  ...        0     4            1\n",
              "1  55.0        0                      7861  ...        0     6            1\n",
              "2  65.0        0                       146  ...        1     7            1\n",
              "3  50.0        1                       111  ...        0     7            1\n",
              "4  65.0        1                       160  ...        0     8            1\n",
              "\n",
              "[5 rows x 13 columns]"
            ]
          },
          "metadata": {
            "tags": []
          },
          "execution_count": 1
        }
      ]
    },
    {
      "cell_type": "markdown",
      "metadata": {
        "id": "5jTMMKWQvX6b"
      },
      "source": [
        "##Modificacion de los datos"
      ]
    },
    {
      "cell_type": "markdown",
      "metadata": {
        "id": "GSRSIwTObP2j"
      },
      "source": [
        "### Se realiza el split de los datos"
      ]
    },
    {
      "cell_type": "code",
      "metadata": {
        "id": "1J52cIwDvVSj"
      },
      "source": [
        "from sklearn.model_selection import train_test_split\n",
        "data=dataframe.values\n",
        "#print(data.shape)\n",
        "Death=data[:,12]\n",
        "X=data[:,0:12]\n",
        "Xtotal=X\n",
        "ytotal=Death\n",
        "X_train, X_test, y_train, y_test = train_test_split(Xtotal, ytotal, random_state=0)\n",
        "\n"
      ],
      "execution_count": 2,
      "outputs": []
    },
    {
      "cell_type": "markdown",
      "metadata": {
        "id": "TBIKgn7ubbIy"
      },
      "source": [
        "### Escalizado de datos\n",
        "Se prueban diferentes opciones de escalizado para los datos, se consideran la Standar, Min Max y Robust como las mas apropiadas para este proyecto"
      ]
    },
    {
      "cell_type": "markdown",
      "metadata": {
        "id": "S83z_fLNb3Wz"
      },
      "source": [
        "Standar Scaler"
      ]
    },
    {
      "cell_type": "code",
      "metadata": {
        "id": "JBWGqmaD4Xpt"
      },
      "source": [
        "from sklearn.preprocessing import StandardScaler\n",
        "scaler = StandardScaler()\n",
        "scaler.fit(X_train)\n",
        "X_train = scaler.transform(X_train)\n",
        "X_test = scaler.transform(X_test)\n"
      ],
      "execution_count": 3,
      "outputs": []
    },
    {
      "cell_type": "markdown",
      "metadata": {
        "id": "BKe3PQWUywqy"
      },
      "source": [
        "Min Max Scaler"
      ]
    },
    {
      "cell_type": "code",
      "metadata": {
        "id": "Hk0AcLlBfxwj"
      },
      "source": [
        "from sklearn.preprocessing import MinMaxScaler\n",
        "scaler = MinMaxScaler()\n",
        "scaler.fit(X_train)\n",
        "X_train = scaler.transform(X_train)\n",
        "X_test = scaler.transform(X_test)"
      ],
      "execution_count": null,
      "outputs": []
    },
    {
      "cell_type": "markdown",
      "metadata": {
        "id": "sYixhj0br6Kl"
      },
      "source": [
        "Robust Scaler"
      ]
    },
    {
      "cell_type": "code",
      "metadata": {
        "id": "eOLKsRsffyRU"
      },
      "source": [
        "from sklearn.preprocessing import RobustScaler\n",
        "scaler = RobustScaler().fit(X_train)\n",
        "X_train = scaler.transform(X_train)\n",
        "X_test = scaler.transform(X_test)\n"
      ],
      "execution_count": null,
      "outputs": []
    },
    {
      "cell_type": "markdown",
      "metadata": {
        "id": "cU7FFOUZddoq"
      },
      "source": [
        "##Logistic regression\n",
        "Como se propone comprobar diferentes modelos, dado que es un problema de aprendizaje supervisado, la primera opcion es la regresion logistica."
      ]
    },
    {
      "cell_type": "code",
      "metadata": {
        "id": "e-ErOnhAMHiA"
      },
      "source": [
        "#Se crea la funcion guess_C para obtener el mejor valor de regularizacion, evaluado mediante MCC\n",
        "def guess_C(init, end, jump,penal , random, X_train,y_train,X_test,y_test):\n",
        "  score = 0\n",
        "  reg=0\n",
        "  for x in np.linspace(init, end, num=jump):\n",
        "    LR = LogisticRegression(penalty=penal, C=x,random_state=random)\n",
        "    LR.fit(X_train, y_train)\n",
        "    y_test_predicted = LR.predict(X_test)\n",
        "    y_test_scores = LR.predict_proba(X_test)\n",
        "    MCC = matthews_corrcoef(y_test, y_test_predicted)\n",
        "    #Linea por si se desea evaluar netamente el Accuracy\n",
        "    #ACC = accuracy_score(y_test, y_test_predicted)\n",
        "    if(MCC>score):\n",
        "        score = MCC\n",
        "        reg=x\n",
        "  return score,reg"
      ],
      "execution_count": 4,
      "outputs": []
    },
    {
      "cell_type": "code",
      "metadata": {
        "colab": {
          "base_uri": "https://localhost:8080/"
        },
        "id": "rL4WfxwyJEJZ",
        "outputId": "ee4a625e-d9b5-40a4-cf5a-74123c24b65c"
      },
      "source": [
        "\n",
        "\n",
        "#declaro la penalizacion\n",
        "pen='l2'\n",
        "score,reg = guess_C(0.1, 2, 200,pen , 0, X_train,y_train,X_test,y_test)\n",
        "\n",
        "#entreno\n",
        "LR = LogisticRegression(penalty='l2', C=reg,random_state=0)\n",
        "LR.fit(X_train, y_train)\n",
        "\n",
        "print(\"Mejor MCC de \",score)\n",
        "print(\"Conseguido con regularizacion de\",reg)\n",
        "\n"
      ],
      "execution_count": 5,
      "outputs": [
        {
          "output_type": "stream",
          "text": [
            "Mejor MCC de  0.5228131741408373\n",
            "Conseguido con regularizacion de 0.4150753768844221\n"
          ],
          "name": "stdout"
        }
      ]
    },
    {
      "cell_type": "code",
      "metadata": {
        "id": "LwsjthB9W0qE"
      },
      "source": [
        "#Definicion de funcion de plot para la ROC a partir de y_test y y_test_scores\n",
        "def plot_ROC(y_test,y_test_scores):\n",
        "  fpr,tpr,thresholds = roc_curve(y_test, y_test_scores[:,1])\n",
        "  roc_auc=roc_auc_score(y_test, y_test_scores[:,1])\n",
        "  plt.figure()\n",
        "  lw = 2\n",
        "  plt.plot(fpr, tpr, color='darkorange',lw=lw, label='ROC curve (area = %0.2f)' % roc_auc)\n",
        "  plt.plot([0, 1], [0, 1], color='navy', lw=lw, linestyle='--')\n",
        "  plt.xlim([0.0, 1.0])\n",
        "  plt.ylim([0.0, 1.05])\n",
        "  plt.xlabel('False Positive Rate')\n",
        "  plt.ylabel('True Positive Rate')\n",
        "  plt.title('Receiver operating characteristic. ROC')\n",
        "  plt.legend(loc=\"lower right\")\n",
        "  plt.show()\n"
      ],
      "execution_count": 6,
      "outputs": []
    },
    {
      "cell_type": "markdown",
      "metadata": {
        "id": "OXcCIliHhTFX"
      },
      "source": [
        "##Resultados de Logistic Regression"
      ]
    },
    {
      "cell_type": "code",
      "metadata": {
        "colab": {
          "base_uri": "https://localhost:8080/",
          "height": 329
        },
        "id": "zjOo2wnBJOma",
        "outputId": "f85f1e1e-172c-4dd4-9fb2-ab4c726b0719"
      },
      "source": [
        "from sklearn.metrics import matthews_corrcoef\n",
        "from sklearn.metrics import accuracy_score\n",
        "from sklearn.metrics import roc_curve,roc_auc_score\n",
        "import matplotlib.pyplot as plt\n",
        "\n",
        "y_test_predicted = LR.predict(X_test)\n",
        "y_test_scores = LR.predict_proba(X_test)\n",
        "MCC = matthews_corrcoef(y_test, y_test_predicted)\n",
        "print(\"matthews_corrcoef\", MCC)\n",
        "ACC = accuracy_score(y_test, y_test_predicted)\n",
        "print(\"Accuracy\", ACC)\n",
        "plot_ROC(y_test,y_test_scores)\n",
        "\n"
      ],
      "execution_count": 7,
      "outputs": [
        {
          "output_type": "stream",
          "text": [
            "matthews_corrcoef 0.5228131741408373\n",
            "Accuracy 0.7866666666666666\n"
          ],
          "name": "stdout"
        },
        {
          "output_type": "display_data",
          "data": {
            "image/png": "[encoded data removed]",
            "text/plain": [
              "<Figure size 432x288 with 1 Axes>"
            ]
          },
          "metadata": {
            "tags": [],
            "needs_background": "light"
          }
        }
      ]
    },
    {
      "cell_type": "markdown",
      "metadata": {
        "id": "CTfRDkb9rlAV"
      },
      "source": [
        "##SVM\n",
        "La siguiente opcion despues de Logistic Regresion son las maquinas de soporte vectorial o SVM, para seleccionar la mejor se prueban diferentes kernel y se muestran las metricas deseadas para decidir el mejor kernel para el proyecto\n"
      ]
    },
    {
      "cell_type": "code",
      "metadata": {
        "id": "QtEEkeYEzfwk",
        "colab": {
          "base_uri": "https://localhost:8080/"
        },
        "outputId": "d4025a5b-ba28-48a9-c539-4e85bbf40b30"
      },
      "source": [
        "from sklearn import svm\n",
        "from sklearn.metrics import matthews_corrcoef\n",
        "from sklearn.metrics import accuracy_score\n",
        "\n",
        "kernels=['linear', 'poly', 'rbf', 'sigmoid']\n",
        "#kernel lineal\n",
        "\n",
        "Kernel=0\n",
        "machine = svm.SVC(kernel=kernels[Kernel])\n",
        "machine.fit(X_train, y_train)\n",
        "#Obtengo e imprimo los score\n",
        "y_test_predicted = machine.predict(X_test)\n",
        "y_test_scores = machine.decision_function(X_test)\n",
        "print(\"\\n**RESULTS FOR \",kernels[Kernel],\" KERNEL***\");\n",
        "MCC = matthews_corrcoef(y_test, y_test_predicted)\n",
        "print(\"matthews_corrcoef\",kernels[Kernel],MCC)\n",
        "ACC = accuracy_score(y_test, y_test_predicted)\n",
        "print(\"Accuracy\",kernels[Kernel], ACC)\n",
        "\n",
        "\n",
        "#kernel polinomial cuadrático\n",
        "Kernel=1\n",
        "machine = svm.SVC(kernel=kernels[Kernel],degree=2)\n",
        "machine.fit(X_train, y_train)\n",
        "#Obtengo e imprimo los score\n",
        "y_test_predicted = machine.predict(X_test)\n",
        "y_test_scores = machine.decision_function(X_test)\n",
        "print(\"\\n**RESULTS FOR \",kernels[Kernel],\"2 KERNEL***\");\n",
        "MCC = matthews_corrcoef(y_test, y_test_predicted)\n",
        "print(\"matthews_corrcoef\",kernels[Kernel],\"degree 2\",MCC)\n",
        "ACC = accuracy_score(y_test, y_test_predicted)\n",
        "print(\"Accuracy\",kernels[Kernel],\"degree2\", ACC)\n",
        "\n",
        "\n",
        "#kernel polinomial cúbico\n",
        "Kernel=1\n",
        "machine = svm.SVC(kernel=kernels[Kernel],degree=3)\n",
        "machine.fit(X_train, y_train)\n",
        "#Obtengo e imprimo los score\n",
        "y_test_predicted = machine.predict(X_test)\n",
        "y_test_scores = machine.decision_function(X_test)\n",
        "print(\"\\n**RESULTS FOR \",kernels[Kernel],\"3 KERNEL***\");\n",
        "MCC = matthews_corrcoef(y_test, y_test_predicted)\n",
        "print(\"matthews_corrcoef\",kernels[Kernel],\"degree 3\",MCC)\n",
        "ACC = accuracy_score(y_test, y_test_predicted)\n",
        "print(\"Accuracy\",kernels[Kernel],\"degree3\", ACC)\n",
        "\n",
        "#kernel sigmoide\n",
        "Kernel=3\n",
        "machine = svm.SVC(kernel=kernels[Kernel])\n",
        "machine.fit(X_train, y_train)\n",
        "#Obtengo e imprimo los score\n",
        "y_test_predicted = machine.predict(X_test)\n",
        "y_test_scores = machine.decision_function(X_test)\n",
        "print(\"\\n**RESULTS FOR \",kernels[Kernel],\" KERNEL***\");\n",
        "MCC = matthews_corrcoef(y_test, y_test_predicted)\n",
        "print(\"matthews_corrcoef\",kernels[Kernel],MCC)\n",
        "ACC = accuracy_score(y_test, y_test_predicted)\n",
        "print(\"Accuracy\",kernels[Kernel], ACC)\n",
        "\n",
        "#kernel rbf\n",
        "Kernel=2\n",
        "machine = svm.SVC(kernel=kernels[Kernel])\n",
        "machine.fit(X_train, y_train)\n",
        "#Obtengo e imprimo los score\n",
        "y_test_predicted = machine.predict(X_test)\n",
        "y_test_scores = machine.decision_function(X_test)\n",
        "print(\"\\n**RESULTS FOR \",kernels[Kernel],\" KERNEL***\");\n",
        "MCC = matthews_corrcoef(y_test, y_test_predicted)\n",
        "print(\"matthews_corrcoef\",kernels[Kernel],MCC)\n",
        "ACC = accuracy_score(y_test, y_test_predicted)\n",
        "print(\"Accuracy\",kernels[Kernel], ACC)\n",
        "\n"
      ],
      "execution_count": 8,
      "outputs": [
        {
          "output_type": "stream",
          "text": [
            "\n",
            "**RESULTS FOR  linear  KERNEL***\n",
            "matthews_corrcoef linear 0.5228131741408373\n",
            "Accuracy linear 0.7866666666666666\n",
            "\n",
            "**RESULTS FOR  poly 2 KERNEL***\n",
            "matthews_corrcoef poly degree 2 0.06496495357242561\n",
            "Accuracy poly degree2 0.6266666666666667\n",
            "\n",
            "**RESULTS FOR  poly 3 KERNEL***\n",
            "matthews_corrcoef poly degree 3 0.40688576184834985\n",
            "Accuracy poly degree3 0.7333333333333333\n",
            "\n",
            "**RESULTS FOR  sigmoid  KERNEL***\n",
            "matthews_corrcoef sigmoid 0.5541466051858356\n",
            "Accuracy sigmoid 0.8\n",
            "\n",
            "**RESULTS FOR  rbf  KERNEL***\n",
            "matthews_corrcoef rbf 0.5850371197585715\n",
            "Accuracy rbf 0.8133333333333334\n"
          ],
          "name": "stdout"
        }
      ]
    },
    {
      "cell_type": "markdown",
      "metadata": {
        "id": "wGC7uXu9mi05"
      },
      "source": [
        "##Resultados para SVM"
      ]
    },
    {
      "cell_type": "code",
      "metadata": {
        "colab": {
          "base_uri": "https://localhost:8080/",
          "height": 329
        },
        "id": "k2XHXmbcYvmU",
        "outputId": "9bd8142f-77f5-4d57-a690-1ce9a3a1d90b"
      },
      "source": [
        "from sklearn.metrics import matthews_corrcoef\n",
        "from sklearn.metrics import accuracy_score\n",
        "from sklearn.metrics import roc_curve,roc_auc_score\n",
        "\n",
        "MCC = matthews_corrcoef(y_test, y_test_predicted)\n",
        "print(\"matthews_corrcoef\",kernels[Kernel],MCC)\n",
        "ACC = accuracy_score(y_test, y_test_predicted)\n",
        "print(\"Accuracy\",kernels[Kernel], ACC)\n",
        "fpr,tpr,thresholds = roc_curve(y_test, y_test_scores)\n",
        "roc_auc=roc_auc_score(y_test, y_test_scores)\n",
        "plt.figure()\n",
        "lw = 2\n",
        "plt.plot(fpr, tpr, color='darkorange',lw=lw, label='ROC curve (area = %0.2f)' % roc_auc)\n",
        "plt.plot([0, 1], [0, 1], color='navy', lw=lw, linestyle='--')\n",
        "plt.xlim([0.0, 1.0])\n",
        "plt.ylim([0.0, 1.05])\n",
        "plt.xlabel('False Positive Rate')\n",
        "plt.ylabel('True Positive Rate')\n",
        "plt.title('Receiver operating characteristic. ROC')\n",
        "plt.legend(loc=\"lower right\")\n",
        "plt.show()"
      ],
      "execution_count": 9,
      "outputs": [
        {
          "output_type": "stream",
          "text": [
            "matthews_corrcoef rbf 0.5850371197585715\n",
            "Accuracy rbf 0.8133333333333334\n"
          ],
          "name": "stdout"
        },
        {
          "output_type": "display_data",
          "data": {
            "image/png": "[encoded data removed]",
            "text/plain": [
              "<Figure size 432x288 with 1 Axes>"
            ]
          },
          "metadata": {
            "tags": [],
            "needs_background": "light"
          }
        }
      ]
    },
    {
      "cell_type": "markdown",
      "metadata": {
        "id": "1jjtSiU13anG"
      },
      "source": [
        "##KNN"
      ]
    },
    {
      "cell_type": "code",
      "metadata": {
        "colab": {
          "base_uri": "https://localhost:8080/",
          "height": 317
        },
        "id": "d-1EfAYAZMbs",
        "outputId": "f56ac016-0261-4387-c743-c93d2979da5c"
      },
      "source": [
        "from sklearn.neighbors import KNeighborsClassifier\n",
        "from sklearn.neighbors import DistanceMetric\n",
        "\n",
        "k_range = range(1, 30)\n",
        "scores = []\n",
        "max_score=0\n",
        "max_score_k=0\n",
        "for k in k_range:\n",
        "    knn = KNeighborsClassifier(n_neighbors = k,weights='distance', metric_params=None,algorithm='brute')\n",
        "    knn.fit(X_train, y_train)\n",
        "    score=knn.score(X_test, y_test)\n",
        "    if(score>max_score):\n",
        "      max_score=score\n",
        "      max_score_k=k\n",
        "    scores.append(score)\n",
        "    \n",
        "plt.figure()\n",
        "plt.xlabel('k')\n",
        "plt.ylabel('accuracy')\n",
        "plt.scatter(k_range, scores)\n",
        "plt.xticks([0,5,10,15,20,25,30])\n",
        "print(\"Max score \",max_score)\n",
        "print(\"found at k = \",max_score_k)\n"
      ],
      "execution_count": 10,
      "outputs": [
        {
          "output_type": "stream",
          "text": [
            "Max score  0.7733333333333333\n",
            "found at k =  10\n"
          ],
          "name": "stdout"
        },
        {
          "output_type": "display_data",
          "data": {
            "image/png": "[encoded data removed]",
            "text/plain": [
              "<Figure size 432x288 with 1 Axes>"
            ]
          },
          "metadata": {
            "tags": [],
            "needs_background": "light"
          }
        }
      ]
    },
    {
      "cell_type": "code",
      "metadata": {
        "id": "mYWErzS7ZzqD"
      },
      "source": [
        "from sklearn.neighbors import KNeighborsClassifier\n",
        "from sklearn.neighbors import DistanceMetric\n",
        "\n",
        "\n",
        "n_neighbors = max_score_k\n",
        "knn = KNeighborsClassifier(n_neighbors,weights='distance', metric_params=None,algorithm='brute')\n",
        "knn.fit(X_train, y_train)\n",
        "\n",
        "#Obtengo e imprimo los score\n",
        "y_test_predicted = knn.predict(X_test)\n",
        "y_test_scores = knn.predict_proba(X_test)\n"
      ],
      "execution_count": 11,
      "outputs": []
    },
    {
      "cell_type": "markdown",
      "metadata": {
        "id": "VobuJIYnq9R1"
      },
      "source": [
        "##Resultados KNN"
      ]
    },
    {
      "cell_type": "code",
      "metadata": {
        "colab": {
          "base_uri": "https://localhost:8080/",
          "height": 329
        },
        "id": "aUjonvHrZ8vS",
        "outputId": "3d9d54c9-466c-4c30-e9ac-c847ac89c4be"
      },
      "source": [
        "from sklearn.metrics import matthews_corrcoef\n",
        "from sklearn.metrics import accuracy_score\n",
        "from sklearn.metrics import roc_curve,roc_auc_score\n",
        "\n",
        "MCC = matthews_corrcoef(y_test, y_test_predicted)\n",
        "print(\"matthews_corrcoef\",kernels[Kernel],MCC)\n",
        "ACC = accuracy_score(y_test, y_test_predicted)\n",
        "print(\"Accuracy\",\"KNN\",ACC)\n",
        "#Se asigna a y_test_scoresROC el valor de los scores necesario apra calcular la ROC, ya que KNN devuelve dos filas, la prob de clase1 y prob de clase0\n",
        "y_test_scoresROC=y_test_scores[:,1]\n",
        "\n",
        "fpr,tpr,thresholds = roc_curve(y_test, y_test_scoresROC)\n",
        "roc_auc=roc_auc_score(y_test, y_test_scoresROC)\n",
        "plt.figure()\n",
        "lw = 2\n",
        "plt.plot(fpr, tpr, color='darkorange',lw=lw, label='ROC curve (area = %0.2f)' % roc_auc)\n",
        "plt.plot([0, 1], [0, 1], color='navy', lw=lw, linestyle='--')\n",
        "plt.xlim([0.0, 1.0])\n",
        "plt.ylim([0.0, 1.05])\n",
        "plt.xlabel('False Positive Rate')\n",
        "plt.ylabel('True Positive Rate')\n",
        "plt.title('Receiver operating characteristic. ROC')\n",
        "plt.legend(loc=\"lower right\")\n",
        "plt.show()"
      ],
      "execution_count": 12,
      "outputs": [
        {
          "output_type": "stream",
          "text": [
            "matthews_corrcoef rbf 0.4961797853511374\n",
            "Accuracy KNN 0.7733333333333333\n"
          ],
          "name": "stdout"
        },
        {
          "output_type": "display_data",
          "data": {
            "image/png": "[encoded data removed]",
            "text/plain": [
              "<Figure size 432x288 with 1 Axes>"
            ]
          },
          "metadata": {
            "tags": [],
            "needs_background": "light"
          }
        }
      ]
    },
    {
      "cell_type": "markdown",
      "metadata": {
        "id": "ZRR8-PGMs3qt"
      },
      "source": [
        "##Redes neuronales"
      ]
    },
    {
      "cell_type": "code",
      "metadata": {
        "id": "GJIW9dVms3CO"
      },
      "source": [
        "from keras.models import Sequential #Librería para cre#Librería para crear las capas con neuronasar el modelo de las neuronas\n",
        "from keras.layers import Dense #Librería para crear las capas con neuronas\n",
        "from keras.utils import plot_model #Se importa la librería para hacer gráficos varios de las funciones de keras\n",
        "\n",
        "nn_model = Sequential() #Definición del modelo\n",
        "activations=['relu', 'sigmoid', 'softmax', 'tanh']\n",
        "activate=0\n",
        "\n",
        "nn_model.add(Dense(9,input_dim = 12,activation = activations[activate],use_bias = 1))\n",
        "nn_model.add(Dense(9,               activation = activations[activate],use_bias = 1))\n",
        "nn_model.add(Dense(9,               activation = activations[activate],use_bias = 1))\n",
        "nn_model.add(Dense(9,               activation = activations[activate],use_bias = 1))\n",
        "nn_model.add(Dense(1,               activation = activations[1],use_bias = 1))#last using sigmoid\n",
        "\n",
        "#\"The number of hidden neurons should be 2/3 the size of the input layer, plus the size of the output layer\" acording to profesor https://www.researchgate.net/post/How-to-decide-the-number-of-hidden-layers-and-nodes-in-a-hidden-layer#:~:text=The%20number%20of%20hidden%20neurons,size%20of%20the%20input%20layer.\n",
        "#Therefore number of neurons should be 9"
      ],
      "execution_count": 16,
      "outputs": []
    },
    {
      "cell_type": "code",
      "metadata": {
        "colab": {
          "base_uri": "https://localhost:8080/"
        },
        "id": "hlIWac0KtopW",
        "outputId": "48666e20-a774-4c0a-b1cf-892939a83db5"
      },
      "source": [
        "nn_model.compile(loss = 'mean_squared_error',optimizer = 'nadam') #Se usará como función de pérdidas la el error medio cuadrado con un optimizador de NAdam https://keras.io/api/optimizers/Nadam/ \n",
        "\n",
        "Train = nn_model.fit(X_train, y_train, epochs = 200,batch_size = 20,verbose=1) \n",
        "\n",
        "#nn_model.summary() #Imprime la información del modelo de neuronas"
      ],
      "execution_count": 17,
      "outputs": [
        {
          "output_type": "stream",
          "text": [
            "Epoch 1/200\n",
            "12/12 [==============================] - 0s 1ms/step - loss: 0.2695\n",
            "Epoch 2/200\n",
            "12/12 [==============================] - 0s 1ms/step - loss: 0.2555\n",
            "Epoch 3/200\n",
            "12/12 [==============================] - 0s 1ms/step - loss: 0.2447\n",
            "Epoch 4/200\n",
            "12/12 [==============================] - 0s 1ms/step - loss: 0.2361\n",
            "Epoch 5/200\n",
            "12/12 [==============================] - 0s 1ms/step - loss: 0.2298\n",
            "Epoch 6/200\n",
            "12/12 [==============================] - 0s 1ms/step - loss: 0.2243\n",
            "Epoch 7/200\n",
            "12/12 [==============================] - 0s 1ms/step - loss: 0.2180\n",
            "Epoch 8/200\n",
            "12/12 [==============================] - 0s 1ms/step - loss: 0.2118\n",
            "Epoch 9/200\n",
            "12/12 [==============================] - 0s 1ms/step - loss: 0.2056\n",
            "Epoch 10/200\n",
            "12/12 [==============================] - 0s 2ms/step - loss: 0.1996\n",
            "Epoch 11/200\n",
            "12/12 [==============================] - 0s 1ms/step - loss: 0.1928\n",
            "Epoch 12/200\n",
            "12/12 [==============================] - 0s 1ms/step - loss: 0.1859\n",
            "Epoch 13/200\n",
            "12/12 [==============================] - 0s 1ms/step - loss: 0.1792\n",
            "Epoch 14/200\n",
            "12/12 [==============================] - 0s 1ms/step - loss: 0.1725\n",
            "Epoch 15/200\n",
            "12/12 [==============================] - 0s 1ms/step - loss: 0.1650\n",
            "Epoch 16/200\n",
            "12/12 [==============================] - 0s 2ms/step - loss: 0.1575\n",
            "Epoch 17/200\n",
            "12/12 [==============================] - 0s 1ms/step - loss: 0.1509\n",
            "Epoch 18/200\n",
            "12/12 [==============================] - 0s 1ms/step - loss: 0.1440\n",
            "Epoch 19/200\n",
            "12/12 [==============================] - 0s 1ms/step - loss: 0.1386\n",
            "Epoch 20/200\n",
            "12/12 [==============================] - 0s 1ms/step - loss: 0.1327\n",
            "Epoch 21/200\n",
            "12/12 [==============================] - 0s 2ms/step - loss: 0.1281\n",
            "Epoch 22/200\n",
            "12/12 [==============================] - 0s 2ms/step - loss: 0.1241\n",
            "Epoch 23/200\n",
            "12/12 [==============================] - 0s 2ms/step - loss: 0.1211\n",
            "Epoch 24/200\n",
            "12/12 [==============================] - 0s 1ms/step - loss: 0.1172\n",
            "Epoch 25/200\n",
            "12/12 [==============================] - 0s 1ms/step - loss: 0.1153\n",
            "Epoch 26/200\n",
            "12/12 [==============================] - 0s 1ms/step - loss: 0.1123\n",
            "Epoch 27/200\n",
            "12/12 [==============================] - 0s 1ms/step - loss: 0.1102\n",
            "Epoch 28/200\n",
            "12/12 [==============================] - 0s 1ms/step - loss: 0.1079\n",
            "Epoch 29/200\n",
            "12/12 [==============================] - 0s 1ms/step - loss: 0.1060\n",
            "Epoch 30/200\n",
            "12/12 [==============================] - 0s 1ms/step - loss: 0.1040\n",
            "Epoch 31/200\n",
            "12/12 [==============================] - 0s 1ms/step - loss: 0.1030\n",
            "Epoch 32/200\n",
            "12/12 [==============================] - 0s 2ms/step - loss: 0.1016\n",
            "Epoch 33/200\n",
            "12/12 [==============================] - 0s 1ms/step - loss: 0.0993\n",
            "Epoch 34/200\n",
            "12/12 [==============================] - 0s 1ms/step - loss: 0.0985\n",
            "Epoch 35/200\n",
            "12/12 [==============================] - 0s 2ms/step - loss: 0.0973\n",
            "Epoch 36/200\n",
            "12/12 [==============================] - 0s 1ms/step - loss: 0.0967\n",
            "Epoch 37/200\n",
            "12/12 [==============================] - 0s 1ms/step - loss: 0.0951\n",
            "Epoch 38/200\n",
            "12/12 [==============================] - 0s 1ms/step - loss: 0.0939\n",
            "Epoch 39/200\n",
            "12/12 [==============================] - 0s 1ms/step - loss: 0.0933\n",
            "Epoch 40/200\n",
            "12/12 [==============================] - 0s 1ms/step - loss: 0.0923\n",
            "Epoch 41/200\n",
            "12/12 [==============================] - 0s 2ms/step - loss: 0.0918\n",
            "Epoch 42/200\n",
            "12/12 [==============================] - 0s 1ms/step - loss: 0.0907\n",
            "Epoch 43/200\n",
            "12/12 [==============================] - 0s 1ms/step - loss: 0.0896\n",
            "Epoch 44/200\n",
            "12/12 [==============================] - 0s 1ms/step - loss: 0.0896\n",
            "Epoch 45/200\n",
            "12/12 [==============================] - 0s 1ms/step - loss: 0.0884\n",
            "Epoch 46/200\n",
            "12/12 [==============================] - 0s 1ms/step - loss: 0.0873\n",
            "Epoch 47/200\n",
            "12/12 [==============================] - 0s 1ms/step - loss: 0.0863\n",
            "Epoch 48/200\n",
            "12/12 [==============================] - 0s 2ms/step - loss: 0.0849\n",
            "Epoch 49/200\n",
            "12/12 [==============================] - 0s 1ms/step - loss: 0.0844\n",
            "Epoch 50/200\n",
            "12/12 [==============================] - 0s 1ms/step - loss: 0.0834\n",
            "Epoch 51/200\n",
            "12/12 [==============================] - 0s 1ms/step - loss: 0.0824\n",
            "Epoch 52/200\n",
            "12/12 [==============================] - 0s 1ms/step - loss: 0.0822\n",
            "Epoch 53/200\n",
            "12/12 [==============================] - 0s 1ms/step - loss: 0.0806\n",
            "Epoch 54/200\n",
            "12/12 [==============================] - 0s 1ms/step - loss: 0.0797\n",
            "Epoch 55/200\n",
            "12/12 [==============================] - 0s 2ms/step - loss: 0.0793\n",
            "Epoch 56/200\n",
            "12/12 [==============================] - 0s 1ms/step - loss: 0.0777\n",
            "Epoch 57/200\n",
            "12/12 [==============================] - 0s 1ms/step - loss: 0.0766\n",
            "Epoch 58/200\n",
            "12/12 [==============================] - 0s 1ms/step - loss: 0.0758\n",
            "Epoch 59/200\n",
            "12/12 [==============================] - 0s 1ms/step - loss: 0.0744\n",
            "Epoch 60/200\n",
            "12/12 [==============================] - 0s 2ms/step - loss: 0.0734\n",
            "Epoch 61/200\n",
            "12/12 [==============================] - 0s 2ms/step - loss: 0.0727\n",
            "Epoch 62/200\n",
            "12/12 [==============================] - 0s 1ms/step - loss: 0.0713\n",
            "Epoch 63/200\n",
            "12/12 [==============================] - 0s 1ms/step - loss: 0.0707\n",
            "Epoch 64/200\n",
            "12/12 [==============================] - 0s 1ms/step - loss: 0.0704\n",
            "Epoch 65/200\n",
            "12/12 [==============================] - 0s 1ms/step - loss: 0.0693\n",
            "Epoch 66/200\n",
            "12/12 [==============================] - 0s 1ms/step - loss: 0.0687\n",
            "Epoch 67/200\n",
            "12/12 [==============================] - 0s 1ms/step - loss: 0.0675\n",
            "Epoch 68/200\n",
            "12/12 [==============================] - 0s 1ms/step - loss: 0.0668\n",
            "Epoch 69/200\n",
            "12/12 [==============================] - 0s 1ms/step - loss: 0.0659\n",
            "Epoch 70/200\n",
            "12/12 [==============================] - 0s 1ms/step - loss: 0.0652\n",
            "Epoch 71/200\n",
            "12/12 [==============================] - 0s 1ms/step - loss: 0.0648\n",
            "Epoch 72/200\n",
            "12/12 [==============================] - 0s 2ms/step - loss: 0.0645\n",
            "Epoch 73/200\n",
            "12/12 [==============================] - 0s 1ms/step - loss: 0.0635\n",
            "Epoch 74/200\n",
            "12/12 [==============================] - 0s 1ms/step - loss: 0.0633\n",
            "Epoch 75/200\n",
            "12/12 [==============================] - 0s 1ms/step - loss: 0.0621\n",
            "Epoch 76/200\n",
            "12/12 [==============================] - 0s 2ms/step - loss: 0.0615\n",
            "Epoch 77/200\n",
            "12/12 [==============================] - 0s 1ms/step - loss: 0.0607\n",
            "Epoch 78/200\n",
            "12/12 [==============================] - 0s 1ms/step - loss: 0.0601\n",
            "Epoch 79/200\n",
            "12/12 [==============================] - 0s 1ms/step - loss: 0.0594\n",
            "Epoch 80/200\n",
            "12/12 [==============================] - 0s 2ms/step - loss: 0.0592\n",
            "Epoch 81/200\n",
            "12/12 [==============================] - 0s 1ms/step - loss: 0.0588\n",
            "Epoch 82/200\n",
            "12/12 [==============================] - 0s 1ms/step - loss: 0.0584\n",
            "Epoch 83/200\n",
            "12/12 [==============================] - 0s 1ms/step - loss: 0.0578\n",
            "Epoch 84/200\n",
            "12/12 [==============================] - 0s 1ms/step - loss: 0.0569\n",
            "Epoch 85/200\n",
            "12/12 [==============================] - 0s 1ms/step - loss: 0.0562\n",
            "Epoch 86/200\n",
            "12/12 [==============================] - 0s 1ms/step - loss: 0.0553\n",
            "Epoch 87/200\n",
            "12/12 [==============================] - 0s 1ms/step - loss: 0.0557\n",
            "Epoch 88/200\n",
            "12/12 [==============================] - 0s 1ms/step - loss: 0.0547\n",
            "Epoch 89/200\n",
            "12/12 [==============================] - 0s 1ms/step - loss: 0.0544\n",
            "Epoch 90/200\n",
            "12/12 [==============================] - 0s 2ms/step - loss: 0.0537\n",
            "Epoch 91/200\n",
            "12/12 [==============================] - 0s 1ms/step - loss: 0.0531\n",
            "Epoch 92/200\n",
            "12/12 [==============================] - 0s 1ms/step - loss: 0.0529\n",
            "Epoch 93/200\n",
            "12/12 [==============================] - 0s 1ms/step - loss: 0.0522\n",
            "Epoch 94/200\n",
            "12/12 [==============================] - 0s 1ms/step - loss: 0.0523\n",
            "Epoch 95/200\n",
            "12/12 [==============================] - 0s 2ms/step - loss: 0.0518\n",
            "Epoch 96/200\n",
            "12/12 [==============================] - 0s 1ms/step - loss: 0.0520\n",
            "Epoch 97/200\n",
            "12/12 [==============================] - 0s 2ms/step - loss: 0.0510\n",
            "Epoch 98/200\n",
            "12/12 [==============================] - 0s 2ms/step - loss: 0.0507\n",
            "Epoch 99/200\n",
            "12/12 [==============================] - 0s 1ms/step - loss: 0.0500\n",
            "Epoch 100/200\n",
            "12/12 [==============================] - 0s 2ms/step - loss: 0.0497\n",
            "Epoch 101/200\n",
            "12/12 [==============================] - 0s 1ms/step - loss: 0.0494\n",
            "Epoch 102/200\n",
            "12/12 [==============================] - 0s 1ms/step - loss: 0.0487\n",
            "Epoch 103/200\n",
            "12/12 [==============================] - 0s 1ms/step - loss: 0.0482\n",
            "Epoch 104/200\n",
            "12/12 [==============================] - 0s 1ms/step - loss: 0.0475\n",
            "Epoch 105/200\n",
            "12/12 [==============================] - 0s 2ms/step - loss: 0.0470\n",
            "Epoch 106/200\n",
            "12/12 [==============================] - 0s 1ms/step - loss: 0.0468\n",
            "Epoch 107/200\n",
            "12/12 [==============================] - 0s 1ms/step - loss: 0.0460\n",
            "Epoch 108/200\n",
            "12/12 [==============================] - 0s 1ms/step - loss: 0.0451\n",
            "Epoch 109/200\n",
            "12/12 [==============================] - 0s 1ms/step - loss: 0.0447\n",
            "Epoch 110/200\n",
            "12/12 [==============================] - 0s 2ms/step - loss: 0.0444\n",
            "Epoch 111/200\n",
            "12/12 [==============================] - 0s 1ms/step - loss: 0.0442\n",
            "Epoch 112/200\n",
            "12/12 [==============================] - 0s 1ms/step - loss: 0.0441\n",
            "Epoch 113/200\n",
            "12/12 [==============================] - 0s 1ms/step - loss: 0.0430\n",
            "Epoch 114/200\n",
            "12/12 [==============================] - 0s 1ms/step - loss: 0.0428\n",
            "Epoch 115/200\n",
            "12/12 [==============================] - 0s 1ms/step - loss: 0.0421\n",
            "Epoch 116/200\n",
            "12/12 [==============================] - 0s 2ms/step - loss: 0.0420\n",
            "Epoch 117/200\n",
            "12/12 [==============================] - 0s 2ms/step - loss: 0.0416\n",
            "Epoch 118/200\n",
            "12/12 [==============================] - 0s 1ms/step - loss: 0.0413\n",
            "Epoch 119/200\n",
            "12/12 [==============================] - 0s 2ms/step - loss: 0.0407\n",
            "Epoch 120/200\n",
            "12/12 [==============================] - 0s 1ms/step - loss: 0.0403\n",
            "Epoch 121/200\n",
            "12/12 [==============================] - 0s 1ms/step - loss: 0.0404\n",
            "Epoch 122/200\n",
            "12/12 [==============================] - 0s 1ms/step - loss: 0.0400\n",
            "Epoch 123/200\n",
            "12/12 [==============================] - 0s 1ms/step - loss: 0.0397\n",
            "Epoch 124/200\n",
            "12/12 [==============================] - 0s 2ms/step - loss: 0.0394\n",
            "Epoch 125/200\n",
            "12/12 [==============================] - 0s 1ms/step - loss: 0.0387\n",
            "Epoch 126/200\n",
            "12/12 [==============================] - 0s 2ms/step - loss: 0.0389\n",
            "Epoch 127/200\n",
            "12/12 [==============================] - 0s 2ms/step - loss: 0.0388\n",
            "Epoch 128/200\n",
            "12/12 [==============================] - 0s 1ms/step - loss: 0.0383\n",
            "Epoch 129/200\n",
            "12/12 [==============================] - 0s 1ms/step - loss: 0.0377\n",
            "Epoch 130/200\n",
            "12/12 [==============================] - 0s 2ms/step - loss: 0.0377\n",
            "Epoch 131/200\n",
            "12/12 [==============================] - 0s 1ms/step - loss: 0.0373\n",
            "Epoch 132/200\n",
            "12/12 [==============================] - 0s 1ms/step - loss: 0.0371\n",
            "Epoch 133/200\n",
            "12/12 [==============================] - 0s 1ms/step - loss: 0.0367\n",
            "Epoch 134/200\n",
            "12/12 [==============================] - 0s 2ms/step - loss: 0.0365\n",
            "Epoch 135/200\n",
            "12/12 [==============================] - 0s 2ms/step - loss: 0.0366\n",
            "Epoch 136/200\n",
            "12/12 [==============================] - 0s 2ms/step - loss: 0.0362\n",
            "Epoch 137/200\n",
            "12/12 [==============================] - 0s 2ms/step - loss: 0.0358\n",
            "Epoch 138/200\n",
            "12/12 [==============================] - 0s 2ms/step - loss: 0.0357\n",
            "Epoch 139/200\n",
            "12/12 [==============================] - 0s 1ms/step - loss: 0.0354\n",
            "Epoch 140/200\n",
            "12/12 [==============================] - 0s 1ms/step - loss: 0.0353\n",
            "Epoch 141/200\n",
            "12/12 [==============================] - 0s 2ms/step - loss: 0.0354\n",
            "Epoch 142/200\n",
            "12/12 [==============================] - 0s 2ms/step - loss: 0.0358\n",
            "Epoch 143/200\n",
            "12/12 [==============================] - 0s 2ms/step - loss: 0.0350\n",
            "Epoch 144/200\n",
            "12/12 [==============================] - 0s 1ms/step - loss: 0.0346\n",
            "Epoch 145/200\n",
            "12/12 [==============================] - 0s 2ms/step - loss: 0.0344\n",
            "Epoch 146/200\n",
            "12/12 [==============================] - 0s 2ms/step - loss: 0.0343\n",
            "Epoch 147/200\n",
            "12/12 [==============================] - 0s 2ms/step - loss: 0.0341\n",
            "Epoch 148/200\n",
            "12/12 [==============================] - 0s 2ms/step - loss: 0.0337\n",
            "Epoch 149/200\n",
            "12/12 [==============================] - 0s 2ms/step - loss: 0.0336\n",
            "Epoch 150/200\n",
            "12/12 [==============================] - 0s 2ms/step - loss: 0.0336\n",
            "Epoch 151/200\n",
            "12/12 [==============================] - 0s 1ms/step - loss: 0.0336\n",
            "Epoch 152/200\n",
            "12/12 [==============================] - 0s 1ms/step - loss: 0.0331\n",
            "Epoch 153/200\n",
            "12/12 [==============================] - 0s 1ms/step - loss: 0.0329\n",
            "Epoch 154/200\n",
            "12/12 [==============================] - 0s 1ms/step - loss: 0.0327\n",
            "Epoch 155/200\n",
            "12/12 [==============================] - 0s 2ms/step - loss: 0.0325\n",
            "Epoch 156/200\n",
            "12/12 [==============================] - 0s 2ms/step - loss: 0.0322\n",
            "Epoch 157/200\n",
            "12/12 [==============================] - 0s 2ms/step - loss: 0.0321\n",
            "Epoch 158/200\n",
            "12/12 [==============================] - 0s 1ms/step - loss: 0.0318\n",
            "Epoch 159/200\n",
            "12/12 [==============================] - 0s 1ms/step - loss: 0.0316\n",
            "Epoch 160/200\n",
            "12/12 [==============================] - 0s 1ms/step - loss: 0.0316\n",
            "Epoch 161/200\n",
            "12/12 [==============================] - 0s 1ms/step - loss: 0.0312\n",
            "Epoch 162/200\n",
            "12/12 [==============================] - 0s 1ms/step - loss: 0.0310\n",
            "Epoch 163/200\n",
            "12/12 [==============================] - 0s 1ms/step - loss: 0.0309\n",
            "Epoch 164/200\n",
            "12/12 [==============================] - 0s 2ms/step - loss: 0.0306\n",
            "Epoch 165/200\n",
            "12/12 [==============================] - 0s 2ms/step - loss: 0.0307\n",
            "Epoch 166/200\n",
            "12/12 [==============================] - 0s 2ms/step - loss: 0.0304\n",
            "Epoch 167/200\n",
            "12/12 [==============================] - 0s 2ms/step - loss: 0.0303\n",
            "Epoch 168/200\n",
            "12/12 [==============================] - 0s 1ms/step - loss: 0.0300\n",
            "Epoch 169/200\n",
            "12/12 [==============================] - 0s 1ms/step - loss: 0.0301\n",
            "Epoch 170/200\n",
            "12/12 [==============================] - 0s 1ms/step - loss: 0.0306\n",
            "Epoch 171/200\n",
            "12/12 [==============================] - 0s 1ms/step - loss: 0.0296\n",
            "Epoch 172/200\n",
            "12/12 [==============================] - 0s 1ms/step - loss: 0.0294\n",
            "Epoch 173/200\n",
            "12/12 [==============================] - 0s 1ms/step - loss: 0.0293\n",
            "Epoch 174/200\n",
            "12/12 [==============================] - 0s 2ms/step - loss: 0.0289\n",
            "Epoch 175/200\n",
            "12/12 [==============================] - 0s 2ms/step - loss: 0.0287\n",
            "Epoch 176/200\n",
            "12/12 [==============================] - 0s 2ms/step - loss: 0.0284\n",
            "Epoch 177/200\n",
            "12/12 [==============================] - 0s 2ms/step - loss: 0.0283\n",
            "Epoch 178/200\n",
            "12/12 [==============================] - 0s 1ms/step - loss: 0.0281\n",
            "Epoch 179/200\n",
            "12/12 [==============================] - 0s 1ms/step - loss: 0.0280\n",
            "Epoch 180/200\n",
            "12/12 [==============================] - 0s 2ms/step - loss: 0.0275\n",
            "Epoch 181/200\n",
            "12/12 [==============================] - 0s 2ms/step - loss: 0.0274\n",
            "Epoch 182/200\n",
            "12/12 [==============================] - 0s 2ms/step - loss: 0.0271\n",
            "Epoch 183/200\n",
            "12/12 [==============================] - 0s 1ms/step - loss: 0.0270\n",
            "Epoch 184/200\n",
            "12/12 [==============================] - 0s 1ms/step - loss: 0.0268\n",
            "Epoch 185/200\n",
            "12/12 [==============================] - 0s 1ms/step - loss: 0.0270\n",
            "Epoch 186/200\n",
            "12/12 [==============================] - 0s 2ms/step - loss: 0.0267\n",
            "Epoch 187/200\n",
            "12/12 [==============================] - 0s 1ms/step - loss: 0.0269\n",
            "Epoch 188/200\n",
            "12/12 [==============================] - 0s 1ms/step - loss: 0.0260\n",
            "Epoch 189/200\n",
            "12/12 [==============================] - 0s 1ms/step - loss: 0.0259\n",
            "Epoch 190/200\n",
            "12/12 [==============================] - 0s 1ms/step - loss: 0.0257\n",
            "Epoch 191/200\n",
            "12/12 [==============================] - 0s 1ms/step - loss: 0.0255\n",
            "Epoch 192/200\n",
            "12/12 [==============================] - 0s 2ms/step - loss: 0.0259\n",
            "Epoch 193/200\n",
            "12/12 [==============================] - 0s 2ms/step - loss: 0.0253\n",
            "Epoch 194/200\n",
            "12/12 [==============================] - 0s 1ms/step - loss: 0.0262\n",
            "Epoch 195/200\n",
            "12/12 [==============================] - 0s 1ms/step - loss: 0.0251\n",
            "Epoch 196/200\n",
            "12/12 [==============================] - 0s 2ms/step - loss: 0.0249\n",
            "Epoch 197/200\n",
            "12/12 [==============================] - 0s 1ms/step - loss: 0.0259\n",
            "Epoch 198/200\n",
            "12/12 [==============================] - 0s 1ms/step - loss: 0.0250\n",
            "Epoch 199/200\n",
            "12/12 [==============================] - 0s 1ms/step - loss: 0.0242\n",
            "Epoch 200/200\n",
            "12/12 [==============================] - 0s 2ms/step - loss: 0.0239\n"
          ],
          "name": "stdout"
        }
      ]
    },
    {
      "cell_type": "code",
      "metadata": {
        "id": "nuyj7kDz26Wh"
      },
      "source": [
        "def Prob_to_discrete(nn_y_test_pred):\n",
        "  y_test_predicted_neuron=[]\n",
        "  for x in nn_y_test_pred:\n",
        "    if(x>.5):\n",
        "      y_test_predicted_neuron.append(1)\n",
        "    else:\n",
        "      y_test_predicted_neuron.append(0)\n",
        "  y_test_predicted=np.array(y_test_predicted_neuron)   \n",
        "  return y_test_predicted"
      ],
      "execution_count": 18,
      "outputs": []
    },
    {
      "cell_type": "markdown",
      "metadata": {
        "id": "byrhGatE8fja"
      },
      "source": [
        "##Resultados ANN"
      ]
    },
    {
      "cell_type": "code",
      "metadata": {
        "colab": {
          "base_uri": "https://localhost:8080/",
          "height": 329
        },
        "id": "GEHB63Y8tn6X",
        "outputId": "1afc06f4-23fa-4b51-cb14-836719bd4c8b"
      },
      "source": [
        "nn_y_train_pred = nn_model.predict(X_train) #Predicción de las etiquetas de X_train\n",
        "nn_y_test_pred = nn_model.predict(X_test) #Predicción de las etiquetas de X_test\n",
        "y_test_predicted=Prob_to_discrete(nn_y_test_pred)\n",
        "\n",
        "\n",
        "MCC = matthews_corrcoef(y_test, y_test_predicted)\n",
        "print(\"matthews_corrcoef\",MCC)\n",
        "ACC = accuracy_score(y_test, y_test_predicted)\n",
        "print(\"Accuracy\",ACC)\n",
        "fpr,tpr,thresholds = roc_curve(y_test, nn_y_test_pred)\n",
        "roc_auc=roc_auc_score(y_test, nn_y_test_pred)\n",
        "plt.figure()\n",
        "lw = 2\n",
        "plt.plot(fpr, tpr, color='darkorange',lw=lw, label='ROC curve (area = %0.2f)' % roc_auc)\n",
        "plt.plot([0, 1], [0, 1], color='navy', lw=lw, linestyle='--')\n",
        "plt.xlim([0.0, 1.0])\n",
        "plt.ylim([0.0, 1.05])\n",
        "plt.xlabel('False Positive Rate')\n",
        "plt.ylabel('True Positive Rate')\n",
        "plt.title('Receiver operating characteristic. ROC')\n",
        "plt.legend(loc=\"lower right\")\n",
        "plt.show()\n",
        "\n"
      ],
      "execution_count": 22,
      "outputs": [
        {
          "output_type": "stream",
          "text": [
            "matthews_corrcoef 0.4929704056533308\n",
            "Accuracy 0.7733333333333333\n"
          ],
          "name": "stdout"
        },
        {
          "output_type": "display_data",
          "data": {
            "image/png": "[encoded data removed]",
            "text/plain": [
              "<Figure size 432x288 with 1 Axes>"
            ]
          },
          "metadata": {
            "tags": [],
            "needs_background": "light"
          }
        }
      ]
    },
    {
      "cell_type": "markdown",
      "metadata": {
        "id": "Ijp3CpiPeNZP"
      },
      "source": [
        "#Conclusiones\n",
        "*   Al final se obtiene un algoritmo con la capacidad de detectar con un 81% de accuracy si un paciente con unas características específicas fallece a causa de sufrir una falla cardiaca, aunque es deseable un valor mayor de accuracy, este ha sido el máximo conseguible para esta aplicación.\n",
        "*   Teniendo en cuenta el Accuracy, la ROC y el MCC de 0.58 en el modelo, se puede afirmar que el modelo es capaz de clasificar de forma correcta ya sea como positivo o como negativo a la mayoría de los pacientes, lo cual sirve como una herramienta útil para la detección temprana de riesgos mortalidad asociados a falla cardiaca, por ende se considera logrado el objetivo\n",
        "\n",
        "*   Dada la aplicacion se considera mas importante que no hayan falsos negativos (la prediccion de que un paciente no esta en riesgo de padecer un ataque cardiaco letal, cuando en realidad si lo esta) que falsos positivos, por lo que la seleccion del modelo tiene esto en cuenta.\n",
        "\n",
        "*   Una de las razones para escoger MCC sobre F1 es debido a su formula, mientras que el F1 analiza los casos positivos, lo cual es bastante util, el MCC analiza tambien los casos negativos. Esto permite obtener una mayor certeza sobre los negativos, ya que queremos disminuir el numero de falsos negativos asi como tener un buen numero de verdaderos positivos.\n",
        "*   Despues de repetir las pruebas por todos los clasificadores con las diferentes escalizaciones, se verifica que la escalizacion estandar es la mas adecuada para la aplicacion, esto tiene sentido dado que para los diferentes datos medicos provistos tienen diferentes significados los valores, como un valor alto en una caracteristica es positivo mientras en otra lo contrario, tras realizar la verificacion contra el robust que centralizaba y removia la mediana, se comprueba que estos datos son significativos, asi que se escoge la escalizacion estandar.\n",
        "\n"
      ]
    }
  ]
}